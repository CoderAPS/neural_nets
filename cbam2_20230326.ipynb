{
  "nbformat": 4,
  "nbformat_minor": 0,
  "metadata": {
    "colab": {
      "provenance": [],
      "mount_file_id": "1efTkLVO5A0iegmEG3aQ6D_h3NSaPQA8s",
      "authorship_tag": "ABX9TyNp+rByPXe/2lpLNhyu0kjA",
      "include_colab_link": true
    },
    "kernelspec": {
      "name": "python3",
      "display_name": "Python 3"
    },
    "language_info": {
      "name": "python"
    },
    "accelerator": "GPU",
    "gpuClass": "standard"
  },
  "cells": [
    {
      "cell_type": "markdown",
      "metadata": {
        "id": "view-in-github",
        "colab_type": "text"
      },
      "source": [
        "<a href=\"https://colab.research.google.com/github/CoderAPS/neural_nets/blob/main/cbam2_20230326.ipynb\" target=\"_parent\"><img src=\"https://colab.research.google.com/assets/colab-badge.svg\" alt=\"Open In Colab\"/></a>"
      ]
    },
    {
      "cell_type": "code",
      "source": [
        "# Reead the following link to build complex input pipelines from simple, reusable pieces\n",
        "# https://www.tensorflow.org/guide/data"
      ],
      "metadata": {
        "id": "bQmd3n_EsK42"
      },
      "execution_count": null,
      "outputs": []
    },
    {
      "cell_type": "code",
      "source": [
        "#references:\n",
        "# \n",
        "# https://medium.com/dive-into-ml-ai/experimenting-with-convolutional-block-attention-module-cbam-6325a4e2a70f\n",
        "# https://blog.paperspace.com/attention-mechanisms-in-computer-vision-cbam/\n",
        "# https://github.com/Jongchan/attention-module\n",
        "# https://paperswithcode.com/paper/cbam-convolutional-block-attention-module\n",
        "# https://paperswithcode.com/method/cbam"
      ],
      "metadata": {
        "id": "b3de0fd5ql2b"
      },
      "execution_count": null,
      "outputs": []
    },
    {
      "cell_type": "code",
      "source": [
        "pip install keras-cv --upgrade"
      ],
      "metadata": {
        "colab": {
          "base_uri": "https://localhost:8080/"
        },
        "id": "B3_JJ4BSBChG",
        "outputId": "63c1fdf2-4211-47ea-9272-6743c0349ebf"
      },
      "execution_count": 3,
      "outputs": [
        {
          "output_type": "stream",
          "name": "stdout",
          "text": [
            "Looking in indexes: https://pypi.org/simple, https://us-python.pkg.dev/colab-wheels/public/simple/\n",
            "Collecting keras-cv\n",
            "  Downloading keras_cv-0.4.2-py3-none-any.whl (634 kB)\n",
            "\u001b[2K     \u001b[90m━━━━━━━━━━━━━━━━━━━━━━━━━━━━━━━━━━━━━━\u001b[0m \u001b[32m634.9/634.9 KB\u001b[0m \u001b[31m39.5 MB/s\u001b[0m eta \u001b[36m0:00:00\u001b[0m\n",
            "\u001b[?25hRequirement already satisfied: tensorflow-datasets in /usr/local/lib/python3.9/dist-packages (from keras-cv) (4.8.3)\n",
            "Requirement already satisfied: absl-py in /usr/local/lib/python3.9/dist-packages (from keras-cv) (1.4.0)\n",
            "Requirement already satisfied: regex in /usr/local/lib/python3.9/dist-packages (from keras-cv) (2022.10.31)\n",
            "Requirement already satisfied: packaging in /usr/local/lib/python3.9/dist-packages (from keras-cv) (23.0)\n",
            "Requirement already satisfied: psutil in /usr/local/lib/python3.9/dist-packages (from tensorflow-datasets->keras-cv) (5.9.4)\n",
            "Requirement already satisfied: toml in /usr/local/lib/python3.9/dist-packages (from tensorflow-datasets->keras-cv) (0.10.2)\n",
            "Requirement already satisfied: wrapt in /usr/local/lib/python3.9/dist-packages (from tensorflow-datasets->keras-cv) (1.14.1)\n",
            "Requirement already satisfied: click in /usr/local/lib/python3.9/dist-packages (from tensorflow-datasets->keras-cv) (8.1.3)\n",
            "Requirement already satisfied: tensorflow-metadata in /usr/local/lib/python3.9/dist-packages (from tensorflow-datasets->keras-cv) (1.12.0)\n",
            "Requirement already satisfied: termcolor in /usr/local/lib/python3.9/dist-packages (from tensorflow-datasets->keras-cv) (2.2.0)\n",
            "Requirement already satisfied: etils[enp,epath]>=0.9.0 in /usr/local/lib/python3.9/dist-packages (from tensorflow-datasets->keras-cv) (1.1.1)\n",
            "Requirement already satisfied: tqdm in /usr/local/lib/python3.9/dist-packages (from tensorflow-datasets->keras-cv) (4.65.0)\n",
            "Requirement already satisfied: promise in /usr/local/lib/python3.9/dist-packages (from tensorflow-datasets->keras-cv) (2.3)\n",
            "Requirement already satisfied: dm-tree in /usr/local/lib/python3.9/dist-packages (from tensorflow-datasets->keras-cv) (0.1.8)\n",
            "Requirement already satisfied: requests>=2.19.0 in /usr/local/lib/python3.9/dist-packages (from tensorflow-datasets->keras-cv) (2.27.1)\n",
            "Requirement already satisfied: protobuf>=3.12.2 in /usr/local/lib/python3.9/dist-packages (from tensorflow-datasets->keras-cv) (3.20.3)\n",
            "Requirement already satisfied: numpy in /usr/local/lib/python3.9/dist-packages (from tensorflow-datasets->keras-cv) (1.22.4)\n",
            "Requirement already satisfied: zipp in /usr/local/lib/python3.9/dist-packages (from etils[enp,epath]>=0.9.0->tensorflow-datasets->keras-cv) (3.15.0)\n",
            "Requirement already satisfied: importlib_resources in /usr/local/lib/python3.9/dist-packages (from etils[enp,epath]>=0.9.0->tensorflow-datasets->keras-cv) (5.12.0)\n",
            "Requirement already satisfied: typing_extensions in /usr/local/lib/python3.9/dist-packages (from etils[enp,epath]>=0.9.0->tensorflow-datasets->keras-cv) (4.5.0)\n",
            "Requirement already satisfied: urllib3<1.27,>=1.21.1 in /usr/local/lib/python3.9/dist-packages (from requests>=2.19.0->tensorflow-datasets->keras-cv) (1.26.15)\n",
            "Requirement already satisfied: charset-normalizer~=2.0.0 in /usr/local/lib/python3.9/dist-packages (from requests>=2.19.0->tensorflow-datasets->keras-cv) (2.0.12)\n",
            "Requirement already satisfied: idna<4,>=2.5 in /usr/local/lib/python3.9/dist-packages (from requests>=2.19.0->tensorflow-datasets->keras-cv) (3.4)\n",
            "Requirement already satisfied: certifi>=2017.4.17 in /usr/local/lib/python3.9/dist-packages (from requests>=2.19.0->tensorflow-datasets->keras-cv) (2022.12.7)\n",
            "Requirement already satisfied: six in /usr/local/lib/python3.9/dist-packages (from promise->tensorflow-datasets->keras-cv) (1.16.0)\n",
            "Requirement already satisfied: googleapis-common-protos<2,>=1.52.0 in /usr/local/lib/python3.9/dist-packages (from tensorflow-metadata->tensorflow-datasets->keras-cv) (1.59.0)\n",
            "Installing collected packages: keras-cv\n",
            "Successfully installed keras-cv-0.4.2\n"
          ]
        }
      ]
    },
    {
      "cell_type": "code",
      "execution_count": 4,
      "metadata": {
        "id": "ycyh1DK-TJVg",
        "colab": {
          "base_uri": "https://localhost:8080/"
        },
        "outputId": "e513badc-2a32-41a3-ac72-0993925b05b3"
      },
      "outputs": [
        {
          "output_type": "stream",
          "name": "stdout",
          "text": [
            "You do not have Waymo Open Dataset installed, so KerasCV Waymo metrics are not available.\n"
          ]
        }
      ],
      "source": [
        "# import libraries\n",
        "import pandas as pd\n",
        "import numpy as np\n",
        "import matplotlib.pyplot as plt\n",
        "from IPython.display import clear_output\n",
        "\n",
        "\n",
        "import tensorflow as tf\n",
        "import tensorflow_datasets as tfds\n",
        "from tensorflow import keras\n",
        "import keras_cv\n",
        "\n",
        "from keras_cv.layers import DropBlock2D\n",
        "from tensorflow import keras\n",
        "from keras import Model\n",
        "from keras.datasets import fashion_mnist\n",
        "from keras import Input\n",
        "from tensorflow.keras import activations\n",
        "from tensorflow.keras.layers import Dense,Dropout,Rescaling,Conv2D,BatchNormalization\n",
        "from tensorflow.keras.layers import AveragePooling2D,MaxPooling2D, Concatenate,Flatten\n",
        "from tensorflow.keras.layers import GlobalAveragePooling2D,SeparableConv2D\n",
        "from tensorflow.keras.models import Sequential"
      ]
    },
    {
      "cell_type": "code",
      "source": [
        "!ls drive/MyDrive/Colab/data/fashion_nmist/"
      ],
      "metadata": {
        "colab": {
          "base_uri": "https://localhost:8080/"
        },
        "id": "hd4_91z_Uuux",
        "outputId": "fa82b37a-a72a-4948-a5fa-d0da5ea47bec"
      },
      "execution_count": 5,
      "outputs": [
        {
          "output_type": "stream",
          "name": "stdout",
          "text": [
            " fashion-mnist_test.csv    train-images-idx3-ubyte\n",
            " fashion-mnist_train.csv   train-labels-idx1-ubyte\n",
            " t10k-images-idx3-ubyte   'train-labels-idx1-ubyte (1)'\n",
            " t10k-labels-idx1-ubyte\n"
          ]
        }
      ]
    },
    {
      "cell_type": "code",
      "source": [
        "file_path = 'drive/MyDrive/Colab/data/fashion_nmist/'"
      ],
      "metadata": {
        "id": "8tnkO60zVJqG"
      },
      "execution_count": null,
      "outputs": []
    },
    {
      "cell_type": "code",
      "source": [
        "df = pd.read_csv(file_path+'fashion-mnist_train.csv')\n",
        "df"
      ],
      "metadata": {
        "colab": {
          "base_uri": "https://localhost:8080/",
          "height": 487
        },
        "id": "eMpnUZaldeTt",
        "outputId": "334ac8ca-099d-4aaf-a431-17b5175b4d70"
      },
      "execution_count": null,
      "outputs": [
        {
          "output_type": "execute_result",
          "data": {
            "text/plain": [
              "       label  pixel1  pixel2  pixel3  pixel4  pixel5  pixel6  pixel7  pixel8  \\\n",
              "0          2       0       0       0       0       0       0       0       0   \n",
              "1          9       0       0       0       0       0       0       0       0   \n",
              "2          6       0       0       0       0       0       0       0       5   \n",
              "3          0       0       0       0       1       2       0       0       0   \n",
              "4          3       0       0       0       0       0       0       0       0   \n",
              "...      ...     ...     ...     ...     ...     ...     ...     ...     ...   \n",
              "59995      9       0       0       0       0       0       0       0       0   \n",
              "59996      1       0       0       0       0       0       0       0       0   \n",
              "59997      8       0       0       0       0       0       0       0       0   \n",
              "59998      8       0       0       0       0       0       0       0       0   \n",
              "59999      7       0       0       0       0       0       0       0       0   \n",
              "\n",
              "       pixel9  ...  pixel775  pixel776  pixel777  pixel778  pixel779  \\\n",
              "0           0  ...         0         0         0         0         0   \n",
              "1           0  ...         0         0         0         0         0   \n",
              "2           0  ...         0         0         0        30        43   \n",
              "3           0  ...         3         0         0         0         0   \n",
              "4           0  ...         0         0         0         0         0   \n",
              "...       ...  ...       ...       ...       ...       ...       ...   \n",
              "59995       0  ...         0         0         0         0         0   \n",
              "59996       0  ...        73         0         0         0         0   \n",
              "59997       0  ...       160       162       163       135        94   \n",
              "59998       0  ...         0         0         0         0         0   \n",
              "59999       0  ...         0         0         0         0         0   \n",
              "\n",
              "       pixel780  pixel781  pixel782  pixel783  pixel784  \n",
              "0             0         0         0         0         0  \n",
              "1             0         0         0         0         0  \n",
              "2             0         0         0         0         0  \n",
              "3             1         0         0         0         0  \n",
              "4             0         0         0         0         0  \n",
              "...         ...       ...       ...       ...       ...  \n",
              "59995         0         0         0         0         0  \n",
              "59996         0         0         0         0         0  \n",
              "59997         0         0         0         0         0  \n",
              "59998         0         0         0         0         0  \n",
              "59999         0         0         0         0         0  \n",
              "\n",
              "[60000 rows x 785 columns]"
            ],
            "text/html": [
              "\n",
              "  <div id=\"df-d3947798-a9dc-4aa2-89cc-0cf3ce430294\">\n",
              "    <div class=\"colab-df-container\">\n",
              "      <div>\n",
              "<style scoped>\n",
              "    .dataframe tbody tr th:only-of-type {\n",
              "        vertical-align: middle;\n",
              "    }\n",
              "\n",
              "    .dataframe tbody tr th {\n",
              "        vertical-align: top;\n",
              "    }\n",
              "\n",
              "    .dataframe thead th {\n",
              "        text-align: right;\n",
              "    }\n",
              "</style>\n",
              "<table border=\"1\" class=\"dataframe\">\n",
              "  <thead>\n",
              "    <tr style=\"text-align: right;\">\n",
              "      <th></th>\n",
              "      <th>label</th>\n",
              "      <th>pixel1</th>\n",
              "      <th>pixel2</th>\n",
              "      <th>pixel3</th>\n",
              "      <th>pixel4</th>\n",
              "      <th>pixel5</th>\n",
              "      <th>pixel6</th>\n",
              "      <th>pixel7</th>\n",
              "      <th>pixel8</th>\n",
              "      <th>pixel9</th>\n",
              "      <th>...</th>\n",
              "      <th>pixel775</th>\n",
              "      <th>pixel776</th>\n",
              "      <th>pixel777</th>\n",
              "      <th>pixel778</th>\n",
              "      <th>pixel779</th>\n",
              "      <th>pixel780</th>\n",
              "      <th>pixel781</th>\n",
              "      <th>pixel782</th>\n",
              "      <th>pixel783</th>\n",
              "      <th>pixel784</th>\n",
              "    </tr>\n",
              "  </thead>\n",
              "  <tbody>\n",
              "    <tr>\n",
              "      <th>0</th>\n",
              "      <td>2</td>\n",
              "      <td>0</td>\n",
              "      <td>0</td>\n",
              "      <td>0</td>\n",
              "      <td>0</td>\n",
              "      <td>0</td>\n",
              "      <td>0</td>\n",
              "      <td>0</td>\n",
              "      <td>0</td>\n",
              "      <td>0</td>\n",
              "      <td>...</td>\n",
              "      <td>0</td>\n",
              "      <td>0</td>\n",
              "      <td>0</td>\n",
              "      <td>0</td>\n",
              "      <td>0</td>\n",
              "      <td>0</td>\n",
              "      <td>0</td>\n",
              "      <td>0</td>\n",
              "      <td>0</td>\n",
              "      <td>0</td>\n",
              "    </tr>\n",
              "    <tr>\n",
              "      <th>1</th>\n",
              "      <td>9</td>\n",
              "      <td>0</td>\n",
              "      <td>0</td>\n",
              "      <td>0</td>\n",
              "      <td>0</td>\n",
              "      <td>0</td>\n",
              "      <td>0</td>\n",
              "      <td>0</td>\n",
              "      <td>0</td>\n",
              "      <td>0</td>\n",
              "      <td>...</td>\n",
              "      <td>0</td>\n",
              "      <td>0</td>\n",
              "      <td>0</td>\n",
              "      <td>0</td>\n",
              "      <td>0</td>\n",
              "      <td>0</td>\n",
              "      <td>0</td>\n",
              "      <td>0</td>\n",
              "      <td>0</td>\n",
              "      <td>0</td>\n",
              "    </tr>\n",
              "    <tr>\n",
              "      <th>2</th>\n",
              "      <td>6</td>\n",
              "      <td>0</td>\n",
              "      <td>0</td>\n",
              "      <td>0</td>\n",
              "      <td>0</td>\n",
              "      <td>0</td>\n",
              "      <td>0</td>\n",
              "      <td>0</td>\n",
              "      <td>5</td>\n",
              "      <td>0</td>\n",
              "      <td>...</td>\n",
              "      <td>0</td>\n",
              "      <td>0</td>\n",
              "      <td>0</td>\n",
              "      <td>30</td>\n",
              "      <td>43</td>\n",
              "      <td>0</td>\n",
              "      <td>0</td>\n",
              "      <td>0</td>\n",
              "      <td>0</td>\n",
              "      <td>0</td>\n",
              "    </tr>\n",
              "    <tr>\n",
              "      <th>3</th>\n",
              "      <td>0</td>\n",
              "      <td>0</td>\n",
              "      <td>0</td>\n",
              "      <td>0</td>\n",
              "      <td>1</td>\n",
              "      <td>2</td>\n",
              "      <td>0</td>\n",
              "      <td>0</td>\n",
              "      <td>0</td>\n",
              "      <td>0</td>\n",
              "      <td>...</td>\n",
              "      <td>3</td>\n",
              "      <td>0</td>\n",
              "      <td>0</td>\n",
              "      <td>0</td>\n",
              "      <td>0</td>\n",
              "      <td>1</td>\n",
              "      <td>0</td>\n",
              "      <td>0</td>\n",
              "      <td>0</td>\n",
              "      <td>0</td>\n",
              "    </tr>\n",
              "    <tr>\n",
              "      <th>4</th>\n",
              "      <td>3</td>\n",
              "      <td>0</td>\n",
              "      <td>0</td>\n",
              "      <td>0</td>\n",
              "      <td>0</td>\n",
              "      <td>0</td>\n",
              "      <td>0</td>\n",
              "      <td>0</td>\n",
              "      <td>0</td>\n",
              "      <td>0</td>\n",
              "      <td>...</td>\n",
              "      <td>0</td>\n",
              "      <td>0</td>\n",
              "      <td>0</td>\n",
              "      <td>0</td>\n",
              "      <td>0</td>\n",
              "      <td>0</td>\n",
              "      <td>0</td>\n",
              "      <td>0</td>\n",
              "      <td>0</td>\n",
              "      <td>0</td>\n",
              "    </tr>\n",
              "    <tr>\n",
              "      <th>...</th>\n",
              "      <td>...</td>\n",
              "      <td>...</td>\n",
              "      <td>...</td>\n",
              "      <td>...</td>\n",
              "      <td>...</td>\n",
              "      <td>...</td>\n",
              "      <td>...</td>\n",
              "      <td>...</td>\n",
              "      <td>...</td>\n",
              "      <td>...</td>\n",
              "      <td>...</td>\n",
              "      <td>...</td>\n",
              "      <td>...</td>\n",
              "      <td>...</td>\n",
              "      <td>...</td>\n",
              "      <td>...</td>\n",
              "      <td>...</td>\n",
              "      <td>...</td>\n",
              "      <td>...</td>\n",
              "      <td>...</td>\n",
              "      <td>...</td>\n",
              "    </tr>\n",
              "    <tr>\n",
              "      <th>59995</th>\n",
              "      <td>9</td>\n",
              "      <td>0</td>\n",
              "      <td>0</td>\n",
              "      <td>0</td>\n",
              "      <td>0</td>\n",
              "      <td>0</td>\n",
              "      <td>0</td>\n",
              "      <td>0</td>\n",
              "      <td>0</td>\n",
              "      <td>0</td>\n",
              "      <td>...</td>\n",
              "      <td>0</td>\n",
              "      <td>0</td>\n",
              "      <td>0</td>\n",
              "      <td>0</td>\n",
              "      <td>0</td>\n",
              "      <td>0</td>\n",
              "      <td>0</td>\n",
              "      <td>0</td>\n",
              "      <td>0</td>\n",
              "      <td>0</td>\n",
              "    </tr>\n",
              "    <tr>\n",
              "      <th>59996</th>\n",
              "      <td>1</td>\n",
              "      <td>0</td>\n",
              "      <td>0</td>\n",
              "      <td>0</td>\n",
              "      <td>0</td>\n",
              "      <td>0</td>\n",
              "      <td>0</td>\n",
              "      <td>0</td>\n",
              "      <td>0</td>\n",
              "      <td>0</td>\n",
              "      <td>...</td>\n",
              "      <td>73</td>\n",
              "      <td>0</td>\n",
              "      <td>0</td>\n",
              "      <td>0</td>\n",
              "      <td>0</td>\n",
              "      <td>0</td>\n",
              "      <td>0</td>\n",
              "      <td>0</td>\n",
              "      <td>0</td>\n",
              "      <td>0</td>\n",
              "    </tr>\n",
              "    <tr>\n",
              "      <th>59997</th>\n",
              "      <td>8</td>\n",
              "      <td>0</td>\n",
              "      <td>0</td>\n",
              "      <td>0</td>\n",
              "      <td>0</td>\n",
              "      <td>0</td>\n",
              "      <td>0</td>\n",
              "      <td>0</td>\n",
              "      <td>0</td>\n",
              "      <td>0</td>\n",
              "      <td>...</td>\n",
              "      <td>160</td>\n",
              "      <td>162</td>\n",
              "      <td>163</td>\n",
              "      <td>135</td>\n",
              "      <td>94</td>\n",
              "      <td>0</td>\n",
              "      <td>0</td>\n",
              "      <td>0</td>\n",
              "      <td>0</td>\n",
              "      <td>0</td>\n",
              "    </tr>\n",
              "    <tr>\n",
              "      <th>59998</th>\n",
              "      <td>8</td>\n",
              "      <td>0</td>\n",
              "      <td>0</td>\n",
              "      <td>0</td>\n",
              "      <td>0</td>\n",
              "      <td>0</td>\n",
              "      <td>0</td>\n",
              "      <td>0</td>\n",
              "      <td>0</td>\n",
              "      <td>0</td>\n",
              "      <td>...</td>\n",
              "      <td>0</td>\n",
              "      <td>0</td>\n",
              "      <td>0</td>\n",
              "      <td>0</td>\n",
              "      <td>0</td>\n",
              "      <td>0</td>\n",
              "      <td>0</td>\n",
              "      <td>0</td>\n",
              "      <td>0</td>\n",
              "      <td>0</td>\n",
              "    </tr>\n",
              "    <tr>\n",
              "      <th>59999</th>\n",
              "      <td>7</td>\n",
              "      <td>0</td>\n",
              "      <td>0</td>\n",
              "      <td>0</td>\n",
              "      <td>0</td>\n",
              "      <td>0</td>\n",
              "      <td>0</td>\n",
              "      <td>0</td>\n",
              "      <td>0</td>\n",
              "      <td>0</td>\n",
              "      <td>...</td>\n",
              "      <td>0</td>\n",
              "      <td>0</td>\n",
              "      <td>0</td>\n",
              "      <td>0</td>\n",
              "      <td>0</td>\n",
              "      <td>0</td>\n",
              "      <td>0</td>\n",
              "      <td>0</td>\n",
              "      <td>0</td>\n",
              "      <td>0</td>\n",
              "    </tr>\n",
              "  </tbody>\n",
              "</table>\n",
              "<p>60000 rows × 785 columns</p>\n",
              "</div>\n",
              "      <button class=\"colab-df-convert\" onclick=\"convertToInteractive('df-d3947798-a9dc-4aa2-89cc-0cf3ce430294')\"\n",
              "              title=\"Convert this dataframe to an interactive table.\"\n",
              "              style=\"display:none;\">\n",
              "        \n",
              "  <svg xmlns=\"http://www.w3.org/2000/svg\" height=\"24px\"viewBox=\"0 0 24 24\"\n",
              "       width=\"24px\">\n",
              "    <path d=\"M0 0h24v24H0V0z\" fill=\"none\"/>\n",
              "    <path d=\"M18.56 5.44l.94 2.06.94-2.06 2.06-.94-2.06-.94-.94-2.06-.94 2.06-2.06.94zm-11 1L8.5 8.5l.94-2.06 2.06-.94-2.06-.94L8.5 2.5l-.94 2.06-2.06.94zm10 10l.94 2.06.94-2.06 2.06-.94-2.06-.94-.94-2.06-.94 2.06-2.06.94z\"/><path d=\"M17.41 7.96l-1.37-1.37c-.4-.4-.92-.59-1.43-.59-.52 0-1.04.2-1.43.59L10.3 9.45l-7.72 7.72c-.78.78-.78 2.05 0 2.83L4 21.41c.39.39.9.59 1.41.59.51 0 1.02-.2 1.41-.59l7.78-7.78 2.81-2.81c.8-.78.8-2.07 0-2.86zM5.41 20L4 18.59l7.72-7.72 1.47 1.35L5.41 20z\"/>\n",
              "  </svg>\n",
              "      </button>\n",
              "      \n",
              "  <style>\n",
              "    .colab-df-container {\n",
              "      display:flex;\n",
              "      flex-wrap:wrap;\n",
              "      gap: 12px;\n",
              "    }\n",
              "\n",
              "    .colab-df-convert {\n",
              "      background-color: #E8F0FE;\n",
              "      border: none;\n",
              "      border-radius: 50%;\n",
              "      cursor: pointer;\n",
              "      display: none;\n",
              "      fill: #1967D2;\n",
              "      height: 32px;\n",
              "      padding: 0 0 0 0;\n",
              "      width: 32px;\n",
              "    }\n",
              "\n",
              "    .colab-df-convert:hover {\n",
              "      background-color: #E2EBFA;\n",
              "      box-shadow: 0px 1px 2px rgba(60, 64, 67, 0.3), 0px 1px 3px 1px rgba(60, 64, 67, 0.15);\n",
              "      fill: #174EA6;\n",
              "    }\n",
              "\n",
              "    [theme=dark] .colab-df-convert {\n",
              "      background-color: #3B4455;\n",
              "      fill: #D2E3FC;\n",
              "    }\n",
              "\n",
              "    [theme=dark] .colab-df-convert:hover {\n",
              "      background-color: #434B5C;\n",
              "      box-shadow: 0px 1px 3px 1px rgba(0, 0, 0, 0.15);\n",
              "      filter: drop-shadow(0px 1px 2px rgba(0, 0, 0, 0.3));\n",
              "      fill: #FFFFFF;\n",
              "    }\n",
              "  </style>\n",
              "\n",
              "      <script>\n",
              "        const buttonEl =\n",
              "          document.querySelector('#df-d3947798-a9dc-4aa2-89cc-0cf3ce430294 button.colab-df-convert');\n",
              "        buttonEl.style.display =\n",
              "          google.colab.kernel.accessAllowed ? 'block' : 'none';\n",
              "\n",
              "        async function convertToInteractive(key) {\n",
              "          const element = document.querySelector('#df-d3947798-a9dc-4aa2-89cc-0cf3ce430294');\n",
              "          const dataTable =\n",
              "            await google.colab.kernel.invokeFunction('convertToInteractive',\n",
              "                                                     [key], {});\n",
              "          if (!dataTable) return;\n",
              "\n",
              "          const docLinkHtml = 'Like what you see? Visit the ' +\n",
              "            '<a target=\"_blank\" href=https://colab.research.google.com/notebooks/data_table.ipynb>data table notebook</a>'\n",
              "            + ' to learn more about interactive tables.';\n",
              "          element.innerHTML = '';\n",
              "          dataTable['output_type'] = 'display_data';\n",
              "          await google.colab.output.renderOutput(dataTable, element);\n",
              "          const docLink = document.createElement('div');\n",
              "          docLink.innerHTML = docLinkHtml;\n",
              "          element.appendChild(docLink);\n",
              "        }\n",
              "      </script>\n",
              "    </div>\n",
              "  </div>\n",
              "  "
            ]
          },
          "metadata": {},
          "execution_count": 98
        }
      ]
    },
    {
      "cell_type": "code",
      "source": [
        "# reference: https://www.geeksforgeeks.org/fashion-mnist-with-python-keras-and-deep-learning/\n",
        "\n",
        "# Load data\n",
        "(trainX, trainy), (testX, testy) = fashion_mnist.load_data()"
      ],
      "metadata": {
        "id": "iMygXM8fVQzc",
        "colab": {
          "base_uri": "https://localhost:8080/"
        },
        "outputId": "3629dde9-1329-4fa2-b2b6-f7d5c9e4893b"
      },
      "execution_count": 6,
      "outputs": [
        {
          "output_type": "stream",
          "name": "stdout",
          "text": [
            "Downloading data from https://storage.googleapis.com/tensorflow/tf-keras-datasets/train-labels-idx1-ubyte.gz\n",
            "29515/29515 [==============================] - 0s 1us/step\n",
            "Downloading data from https://storage.googleapis.com/tensorflow/tf-keras-datasets/train-images-idx3-ubyte.gz\n",
            "26421880/26421880 [==============================] - 2s 0us/step\n",
            "Downloading data from https://storage.googleapis.com/tensorflow/tf-keras-datasets/t10k-labels-idx1-ubyte.gz\n",
            "5148/5148 [==============================] - 0s 0us/step\n",
            "Downloading data from https://storage.googleapis.com/tensorflow/tf-keras-datasets/t10k-images-idx3-ubyte.gz\n",
            "4422102/4422102 [==============================] - 1s 0us/step\n"
          ]
        }
      ]
    },
    {
      "cell_type": "code",
      "source": [
        "print(f'Number of images in train set: {len(trainX)}')\n",
        "print(f'Number of images in validation set: {len(testX)}')\n"
      ],
      "metadata": {
        "colab": {
          "base_uri": "https://localhost:8080/"
        },
        "id": "6HA-ejgRQtuS",
        "outputId": "1288135d-ffcd-43fd-ab02-e53ba8a8821f"
      },
      "execution_count": 7,
      "outputs": [
        {
          "output_type": "stream",
          "name": "stdout",
          "text": [
            "Number of images in train set: 60000\n",
            "Number of images in validation set: 10000\n"
          ]
        }
      ]
    },
    {
      "cell_type": "code",
      "source": [
        "trainX = trainX / 255.\n",
        "testX = testX / 255."
      ],
      "metadata": {
        "id": "C50t9OnavkKU"
      },
      "execution_count": 8,
      "outputs": []
    },
    {
      "cell_type": "code",
      "source": [
        "type(trainX)"
      ],
      "metadata": {
        "colab": {
          "base_uri": "https://localhost:8080/"
        },
        "id": "9rd0l6F6nZbc",
        "outputId": "2631edaf-5650-4365-d429-9d24f1ba3765"
      },
      "execution_count": 6,
      "outputs": [
        {
          "output_type": "execute_result",
          "data": {
            "text/plain": [
              "numpy.ndarray"
            ]
          },
          "metadata": {},
          "execution_count": 6
        }
      ]
    },
    {
      "cell_type": "code",
      "source": [
        "# Load NumPy arrays with tf.data.Dataset\n",
        "train_dataset = tf.data.Dataset.from_tensor_slices((trainX, trainy))\n",
        "test_dataset = tf.data.Dataset.from_tensor_slices((testX,testy))\n"
      ],
      "metadata": {
        "id": "ixOCGJD_tFqa"
      },
      "execution_count": 9,
      "outputs": []
    },
    {
      "cell_type": "code",
      "source": [
        "type(train_dataset)"
      ],
      "metadata": {
        "colab": {
          "base_uri": "https://localhost:8080/"
        },
        "id": "0XkkP_ccrUEb",
        "outputId": "75ddba5a-1516-4f51-ecf3-bf6574fe535e"
      },
      "execution_count": 10,
      "outputs": [
        {
          "output_type": "execute_result",
          "data": {
            "text/plain": [
              "tensorflow.python.data.ops.from_tensor_slices_op._TensorSliceDataset"
            ]
          },
          "metadata": {},
          "execution_count": 10
        }
      ]
    },
    {
      "cell_type": "code",
      "source": [
        "tf.data.experimental.cardinality(test_dataset)\n",
        "val_dataset = test_dataset.take(9500)\n",
        "test_dataset = test_dataset.skip(9500)"
      ],
      "metadata": {
        "id": "ERc7ipvCmXVC"
      },
      "execution_count": 11,
      "outputs": []
    },
    {
      "cell_type": "code",
      "source": [
        "print(f'Number of images in val_dataset: {len(val_dataset)}')\n",
        "print(f'Number of images in test_dataset: {len(test_dataset)}')"
      ],
      "metadata": {
        "id": "EX4iUZ5WU7Ip",
        "colab": {
          "base_uri": "https://localhost:8080/"
        },
        "outputId": "4dc6af16-c7b8-4926-810e-b7cb1da6a3d8"
      },
      "execution_count": 12,
      "outputs": [
        {
          "output_type": "stream",
          "name": "stdout",
          "text": [
            "Number of images in val_dataset: 9500\n",
            "Number of images in test_dataset: 500\n"
          ]
        }
      ]
    },
    {
      "cell_type": "code",
      "source": [],
      "metadata": {
        "id": "aRZQ-Bd9jtgv"
      },
      "execution_count": null,
      "outputs": []
    },
    {
      "cell_type": "code",
      "source": [
        "# specify image dimensions\n",
        "channels = 1\n",
        "BUFFER_SIZE = 100\n",
        "BATCH_SIZE = 100\n",
        "img_height = 28\n",
        "img_width = 28"
      ],
      "metadata": {
        "id": "F4T7MYYrRRdd"
      },
      "execution_count": 13,
      "outputs": []
    },
    {
      "cell_type": "code",
      "source": [
        "# Build the input pipeline\n",
        "train_batch = (\n",
        "    train_dataset\n",
        "    .cache()\n",
        "    .shuffle(BUFFER_SIZE)\n",
        "    .batch(BATCH_SIZE)\n",
        "    .prefetch(buffer_size=tf.data.AUTOTUNE)\n",
        "    )\n",
        "\n",
        "val_batch = (\n",
        "    val_dataset\n",
        "    .cache()\n",
        "    .batch(BATCH_SIZE)\n",
        "    .prefetch(buffer_size=tf.data.AUTOTUNE)\n",
        "    )\n",
        "\n",
        "test_batch = (\n",
        "    test_dataset\n",
        "    .cache()\n",
        "    .batch(BATCH_SIZE)\n",
        "    .prefetch(buffer_size=tf.data.AUTOTUNE)\n",
        "    )"
      ],
      "metadata": {
        "id": "uyLnulOgSMiD"
      },
      "execution_count": 14,
      "outputs": []
    },
    {
      "cell_type": "code",
      "source": [
        "class_names = ['T-shirt/top','Trouser','Pullover','Dress',\n",
        "               'Coat','Sandal','Shirt','Sneaker','Bag','Ankle boot']"
      ],
      "metadata": {
        "id": "VrGhsQaYUWRk"
      },
      "execution_count": 15,
      "outputs": []
    },
    {
      "cell_type": "code",
      "source": [
        "len(class_names)"
      ],
      "metadata": {
        "colab": {
          "base_uri": "https://localhost:8080/"
        },
        "id": "o_Mm0HuusNGu",
        "outputId": "302f8a4b-7d51-40a5-a2d2-7625037aba8b"
      },
      "execution_count": 16,
      "outputs": [
        {
          "output_type": "execute_result",
          "data": {
            "text/plain": [
              "10"
            ]
          },
          "metadata": {},
          "execution_count": 16
        }
      ]
    },
    {
      "cell_type": "code",
      "source": [
        "plt.figure(figsize=(10, 10))\n",
        "for images, labels in train_batch.take(1):\n",
        "\n",
        "  for i in range(36):\n",
        "    ax = plt.subplot(6, 6,i+1)\n",
        "    plt.imshow(images[i],cmap=plt.cm.binary)\n",
        "    plt.title(class_names[labels.numpy()[i]])\n",
        "    plt.axis(\"off\")"
      ],
      "metadata": {
        "colab": {
          "base_uri": "https://localhost:8080/",
          "height": 829
        },
        "id": "BWgr2QjcY5UT",
        "outputId": "4d331bbd-1ef3-4faf-f45d-cc4866368949"
      },
      "execution_count": 17,
      "outputs": [
        {
          "output_type": "display_data",
          "data": {
            "text/plain": [
              "<Figure size 1000x1000 with 36 Axes>"
            ],
            "image/png": "[encoded data removed]"
          },
          "metadata": {}
        }
      ]
    },
    {
      "cell_type": "code",
      "source": [
        "def create_model():\n",
        "  model = Sequential()\n",
        "  model.add(Input(shape=(img_height,img_width,1)))\n",
        "  \n",
        "  # three convolution blocks with a max pooling layer in each of them\n",
        "  model.add(Conv2D(16,3,padding='same',activation='relu'))\n",
        "  model.add(MaxPooling2D())\n",
        "  model.add(Conv2D(32,3,padding='same',activation='relu'))\n",
        "  model.add(MaxPooling2D())\n",
        "  model.add(Conv2D(64,3,padding='same',activation='relu'))\n",
        "  model.add(MaxPooling2D())\n",
        "  model.add(Conv2D(128,3,padding='same',activation='relu'))\n",
        "  model.add(MaxPooling2D())\n",
        "\n",
        "  # Add a layer of dropout layer\n",
        "  model.add(Dropout(0.5))\n",
        "\n",
        "  # flatten image for Dense layer\n",
        "  model.add(Flatten())\n",
        "\n",
        "  # fully-connected layer with 128 units on top of it that is activated by a ReLU \n",
        "  # activation function   \n",
        "  model.add(Dense(128,activation='relu'))\n",
        "  \n",
        "  model.add(Dropout(0.5))\n",
        "  model.add(Dense(128,activation='relu'))\n",
        "\n",
        "  model.add(Dense(len(class_names)))\n",
        "\n",
        "\n",
        "  model.compile(optimizer=keras.optimizers.Adam(learning_rate=0.0005),\n",
        "              loss=tf.keras.losses.SparseCategoricalCrossentropy(from_logits=True),\n",
        "              metrics=['accuracy'])\n",
        "\n",
        "  return model"
      ],
      "metadata": {
        "id": "bo9wxbSJTJc0"
      },
      "execution_count": 16,
      "outputs": []
    },
    {
      "cell_type": "code",
      "source": [
        "def evaluate(model,epochs):\n",
        "  model.summary()\n",
        "  history = model.fit(train_batch,\n",
        "                      validation_data=val_batch,\n",
        "                      epochs=epochs,\n",
        "                      verbose=2)\n",
        "  \n",
        "  acc = history.history['accuracy']\n",
        "  val_acc = history.history['val_accuracy']\n",
        "\n",
        "  loss = history.history['loss']\n",
        "  val_loss = history.history['val_loss']\n",
        "\n",
        "  epochs_range = range(epochs)\n",
        "\n",
        "  plt.figure(figsize=(12, 4))\n",
        "  plt.subplot(1, 2, 1)\n",
        "  plt.plot(epochs_range, acc, label='Training Accuracy')\n",
        "  plt.plot(epochs_range, val_acc, label='Validation Accuracy')\n",
        "\n",
        "  \n",
        "\n",
        "  plt.legend(loc='lower right')\n",
        "  plt.title('Training and Validation Accuracy')\n",
        "\n",
        "  plt.subplot(1, 2, 2)\n",
        "  plt.plot(epochs_range, loss, label='Training Loss')\n",
        "  plt.plot(epochs_range, val_loss, label='Validation Loss')\n",
        "\n",
        "    \n",
        "  plt.legend(loc='upper right')\n",
        "  plt.title('Training and Validation Loss')\n",
        "  plt.show()\n",
        "\n",
        "  train_acc = history.history['accuracy'][-1]\n",
        "  val_acc = history.history['val_accuracy'][-1]\n",
        "  train_loss = history.history['loss'][-1]\n",
        "  val_loss = history.history['val_loss'][-1]\n",
        "\n",
        "  print(f'Training accuracy: {train_acc:.3f}\\tTraining loss: {train_loss:.3f}')\n",
        "  print(f'Validation accuracy: {val_acc:.3f}\\tValidation loss: {val_loss:.3f}')\n",
        "\n",
        "  return history"
      ],
      "metadata": {
        "id": "gLhEgawHgr8D"
      },
      "execution_count": 37,
      "outputs": []
    },
    {
      "cell_type": "code",
      "source": [
        "model = create_model()"
      ],
      "metadata": {
        "id": "JRfxhfcPhsiq"
      },
      "execution_count": null,
      "outputs": []
    },
    {
      "cell_type": "code",
      "source": [
        "evaluate(model,10)"
      ],
      "metadata": {
        "colab": {
          "base_uri": "https://localhost:8080/",
          "height": 1000
        },
        "id": "0cdbqloQmYQK",
        "outputId": "8f78f4ac-b4ec-4163-b18d-25c67940902e"
      },
      "execution_count": null,
      "outputs": [
        {
          "output_type": "stream",
          "name": "stdout",
          "text": [
            "Model: \"sequential_1\"\n",
            "_________________________________________________________________\n",
            " Layer (type)                Output Shape              Param #   \n",
            "=================================================================\n",
            " conv2d_4 (Conv2D)           (None, 28, 28, 16)        160       \n",
            "                                                                 \n",
            " max_pooling2d_4 (MaxPooling  (None, 14, 14, 16)       0         \n",
            " 2D)                                                             \n",
            "                                                                 \n",
            " conv2d_5 (Conv2D)           (None, 14, 14, 32)        4640      \n",
            "                                                                 \n",
            " max_pooling2d_5 (MaxPooling  (None, 7, 7, 32)         0         \n",
            " 2D)                                                             \n",
            "                                                                 \n",
            " conv2d_6 (Conv2D)           (None, 7, 7, 64)          18496     \n",
            "                                                                 \n",
            " max_pooling2d_6 (MaxPooling  (None, 3, 3, 64)         0         \n",
            " 2D)                                                             \n",
            "                                                                 \n",
            " conv2d_7 (Conv2D)           (None, 3, 3, 128)         73856     \n",
            "                                                                 \n",
            " max_pooling2d_7 (MaxPooling  (None, 1, 1, 128)        0         \n",
            " 2D)                                                             \n",
            "                                                                 \n",
            " dropout_1 (Dropout)         (None, 1, 1, 128)         0         \n",
            "                                                                 \n",
            " flatten (Flatten)           (None, 128)               0         \n",
            "                                                                 \n",
            " dense (Dense)               (None, 128)               16512     \n",
            "                                                                 \n",
            " dropout_2 (Dropout)         (None, 128)               0         \n",
            "                                                                 \n",
            " dense_1 (Dense)             (None, 128)               16512     \n",
            "                                                                 \n",
            " dense_2 (Dense)             (None, 10)                1290      \n",
            "                                                                 \n",
            "=================================================================\n",
            "Total params: 131,466\n",
            "Trainable params: 131,466\n",
            "Non-trainable params: 0\n",
            "_________________________________________________________________\n",
            "Epoch 1/10\n",
            "600/600 - 17s - loss: 0.9670 - accuracy: 0.6327 - val_loss: 0.5726 - val_accuracy: 0.7769 - 17s/epoch - 28ms/step\n",
            "Epoch 2/10\n",
            "600/600 - 4s - loss: 0.5779 - accuracy: 0.7846 - val_loss: 0.4754 - val_accuracy: 0.8203 - 4s/epoch - 6ms/step\n",
            "Epoch 3/10\n",
            "600/600 - 4s - loss: 0.4836 - accuracy: 0.8232 - val_loss: 0.4081 - val_accuracy: 0.8518 - 4s/epoch - 7ms/step\n",
            "Epoch 4/10\n",
            "600/600 - 3s - loss: 0.4271 - accuracy: 0.8472 - val_loss: 0.3629 - val_accuracy: 0.8666 - 3s/epoch - 5ms/step\n",
            "Epoch 5/10\n",
            "600/600 - 4s - loss: 0.3844 - accuracy: 0.8630 - val_loss: 0.3487 - val_accuracy: 0.8747 - 4s/epoch - 6ms/step\n",
            "Epoch 6/10\n",
            "600/600 - 3s - loss: 0.3566 - accuracy: 0.8732 - val_loss: 0.3244 - val_accuracy: 0.8784 - 3s/epoch - 5ms/step\n",
            "Epoch 7/10\n",
            "600/600 - 3s - loss: 0.3354 - accuracy: 0.8804 - val_loss: 0.3178 - val_accuracy: 0.8843 - 3s/epoch - 5ms/step\n",
            "Epoch 8/10\n",
            "600/600 - 3s - loss: 0.3199 - accuracy: 0.8862 - val_loss: 0.3037 - val_accuracy: 0.8904 - 3s/epoch - 5ms/step\n",
            "Epoch 9/10\n",
            "600/600 - 3s - loss: 0.3040 - accuracy: 0.8927 - val_loss: 0.2968 - val_accuracy: 0.8906 - 3s/epoch - 5ms/step\n",
            "Epoch 10/10\n",
            "600/600 - 3s - loss: 0.2935 - accuracy: 0.8964 - val_loss: 0.3060 - val_accuracy: 0.8899 - 3s/epoch - 5ms/step\n"
          ]
        },
        {
          "output_type": "display_data",
          "data": {
            "text/plain": [
              "<Figure size 864x288 with 2 Axes>"
            ],
            "image/png": "[encoded data removed]"
          },
          "metadata": {
            "needs_background": "light"
          }
        },
        {
          "output_type": "stream",
          "name": "stdout",
          "text": [
            "Training accuracy: 0.896\tTraining loss: 0.293\n",
            "Validation accuracy: 0.890\tTraining loss: 0.306\n"
          ]
        },
        {
          "output_type": "execute_result",
          "data": {
            "text/plain": [
              "<keras.callbacks.History at 0x7f68b8b19760>"
            ]
          },
          "metadata": {},
          "execution_count": 20
        }
      ]
    },
    {
      "cell_type": "code",
      "source": [
        "def channel_attention(features,reduction=4):\n",
        "  inputs = Input(shape=(1,1,features))\n",
        "\n",
        "  ave_pool = AveragePooling2D(padding='same')(inputs)\n",
        "  max_pool = MaxPooling2D(padding='same')(inputs)\n",
        "\n",
        "  reduced_features = features / reduction\n",
        "  \n",
        "  dense1 = Dense(reduced_features)\n",
        "  ave_reduced = dense1(ave_pool)\n",
        "  max_reduced = dense1(max_pool)\n",
        "  \n",
        "  dense2 = Dense(features)\n",
        "  ave_attention = dense2(activations.relu(ave_reduced))\n",
        "  max_attention = dense2(activations.relu(max_reduced))\n",
        "  \n",
        "  overall_attention = activations.sigmoid(ave_attention+max_attention)\n",
        "\n",
        "  #print(f'Overall_attention= {overall_attention.shape}') \n",
        "  return Model(inputs=inputs, outputs=inputs*overall_attention)"
      ],
      "metadata": {
        "id": "oQrGZSyZnFba"
      },
      "execution_count": 58,
      "outputs": []
    },
    {
      "cell_type": "code",
      "source": [
        "def channel_attention_v2(features,reduction=4):\n",
        "  inputs = Input(shape=(1,1,features))\n",
        "  print(f'inputs: {inputs.shape}')\n",
        "\n",
        "  global_pool = GlobalAveragePooling2D(keepdims=True)(inputs)\n",
        "  print(f'global_pool: {global_pool.shape}')\n",
        "\n",
        "  reduced_features = features / reduction\n",
        "  \n",
        "  dense1 = Dense(reduced_features)(global_pool)\n",
        "  print(f'dense1: {dense1.shape}')\n",
        "\n",
        "  activate = activations.relu(dense1)\n",
        "  print(f'activate: {activate.shape}')\n",
        "  \n",
        "  dense2 = Dense(reduced_features)(activate)\n",
        "  print(f'dense2: {dense2.shape}')\n",
        "\n",
        "  overall_attention = Dense(features,activation='sigmoid')(dense2)\n",
        "  \n",
        "  print(f'Overall_attention: {overall_attention.shape}') \n",
        "\n",
        "  return Model(inputs=inputs, outputs=inputs*overall_attention)"
      ],
      "metadata": {
        "id": "ZgPssOTwPIYF"
      },
      "execution_count": 65,
      "outputs": []
    },
    {
      "cell_type": "code",
      "source": [
        "def spatial_attention(features,kernel=3,bias=False):\n",
        "\n",
        "  inputs = Input(shape=(1,1,features))\n",
        "\n",
        "  ave_pool = AveragePooling2D(padding='same')(inputs)\n",
        "  max_pool = MaxPooling2D(padding='same')(inputs)\n",
        "\n",
        "  concat_pool = Concatenate()([ave_pool,max_pool])\n",
        "\n",
        "  conv = Conv2D(filters=1,kernel_size=(kernel,kernel),strides=(1,1),\n",
        "                padding='same',use_bias=bias)(concat_pool)\n",
        "\n",
        "  attention = activations.sigmoid(BatchNormalization()(conv))\n",
        "  #print(f'Attention: {attention.shape}')\n",
        "  return Model(inputs=inputs, outputs=inputs*attention)"
      ],
      "metadata": {
        "id": "90Qiw4An9y1n"
      },
      "execution_count": 66,
      "outputs": []
    },
    {
      "cell_type": "code",
      "source": [
        "def cbam_block(input_data,features,kernel=3,bias=False):\n",
        "\n",
        "  outer = channel_attention_v2(features)(input_data)\n",
        "  #print(f'CBAM func: After channel attention: {outer.shape}')\n",
        "  if not bias:\n",
        "    outer = spatial_attention(features)(outer)\n",
        "  #print(f'CBAM func: After spatial attention: {outer.shape}')\n",
        "  return outer"
      ],
      "metadata": {
        "id": "LFNJU5NH9zH2"
      },
      "execution_count": 64,
      "outputs": []
    },
    {
      "cell_type": "code",
      "source": [
        "status = False\n",
        "if not status:\n",
        "  print('Hello')"
      ],
      "metadata": {
        "colab": {
          "base_uri": "https://localhost:8080/"
        },
        "id": "tewVyjj89zRw",
        "outputId": "e42aa199-aab6-4b8f-9645-46374aec29b1"
      },
      "execution_count": null,
      "outputs": [
        {
          "output_type": "stream",
          "name": "stdout",
          "text": [
            "Hello\n"
          ]
        }
      ]
    },
    {
      "cell_type": "code",
      "source": [
        "def create_model2():\n",
        "\n",
        "  input = Input(shape=(img_height, img_width,1))\n",
        "  \n",
        "  # four convolution blocks with a max pooling layer in each of them\n",
        "  c1 = Conv2D(16,3,padding='same',activation='relu')(input)\n",
        "  mp1 = MaxPooling2D()(c1)\n",
        "\n",
        "  c2 = Conv2D(32,3,padding='same',activation='relu')(mp1)\n",
        "  mp2 = MaxPooling2D()(c2)\n",
        "\n",
        "  c3 = Conv2D(64,3,padding='same',activation='relu')(mp2)\n",
        "  mp3 = MaxPooling2D()(c3)\n",
        "\n",
        "  c4 = Conv2D(128,3,padding='same',activation='relu')(mp3)\n",
        "  mp4 = MaxPooling2D()(c4)\n",
        "\n",
        "\n",
        "  #print(f'Shape of layer mp4 is: {mp4.shape[-1]}')\n",
        "  cbam = cbam_block(mp4,128)\n",
        "  print(f'After CBAM: {cbam.shape}')\n",
        "  # Add a layer of dropout layer\n",
        "  dr1 = Dropout(0.5)(cbam)\n",
        "\n",
        "  # flatten image for Dense layer\n",
        "  fl = Flatten()(dr1)\n",
        "\n",
        "  # fully-connected layer with 128 units on top of it that is activated by a ReLU \n",
        "  # activation function\n",
        "  dense1 = Dense(128,activation='relu')(fl)\n",
        "  \n",
        "  dr2 = Dropout(0.5)(fl)\n",
        "  dense2 = Dense(128,activation='relu')(dr2)\n",
        "  \n",
        "  final = Dense(len(class_names))(dense2)\n",
        "  \n",
        "  model = Model(inputs=[input], outputs=[final])\n",
        "\n",
        "\n",
        "  model.compile(optimizer=keras.optimizers.Adam(learning_rate=0.0005),\n",
        "              loss=tf.keras.losses.SparseCategoricalCrossentropy(from_logits=True),\n",
        "              metrics=['accuracy'])\n",
        "\n",
        "  return model"
      ],
      "metadata": {
        "id": "MQLwouGzot5W"
      },
      "execution_count": 69,
      "outputs": []
    },
    {
      "cell_type": "code",
      "source": [
        "model2 = create_model2()"
      ],
      "metadata": {
        "colab": {
          "base_uri": "https://localhost:8080/"
        },
        "id": "RlPkQ4uRPZEK",
        "outputId": "ed2c793d-a67e-441f-da84-b30467ae5f8d"
      },
      "execution_count": 74,
      "outputs": [
        {
          "output_type": "stream",
          "name": "stdout",
          "text": [
            "inputs: (None, 1, 1, 128)\n",
            "global_pool: (None, 1, 1, 128)\n",
            "dense1: (None, 1, 1, 32)\n",
            "activate: (None, 1, 1, 32)\n",
            "dense2: (None, 1, 1, 32)\n",
            "Overall_attention: (None, 1, 1, 128)\n",
            "After CBAM: (None, 1, 1, 128)\n"
          ]
        }
      ]
    },
    {
      "cell_type": "code",
      "source": [
        "evaluate(model2,10)"
      ],
      "metadata": {
        "colab": {
          "base_uri": "https://localhost:8080/",
          "height": 1000
        },
        "id": "NmHTEfygQyaJ",
        "outputId": "83eb2e79-6c4e-4520-81b2-6810bd871bff"
      },
      "execution_count": 75,
      "outputs": [
        {
          "output_type": "stream",
          "name": "stdout",
          "text": [
            "Model: \"model_19\"\n",
            "_________________________________________________________________\n",
            " Layer (type)                Output Shape              Param #   \n",
            "=================================================================\n",
            " input_32 (InputLayer)       [(None, 28, 28, 1)]       0         \n",
            "                                                                 \n",
            " conv2d_55 (Conv2D)          (None, 28, 28, 16)        160       \n",
            "                                                                 \n",
            " max_pooling2d_57 (MaxPoolin  (None, 14, 14, 16)       0         \n",
            " g2D)                                                            \n",
            "                                                                 \n",
            " conv2d_56 (Conv2D)          (None, 14, 14, 32)        4640      \n",
            "                                                                 \n",
            " max_pooling2d_58 (MaxPoolin  (None, 7, 7, 32)         0         \n",
            " g2D)                                                            \n",
            "                                                                 \n",
            " conv2d_57 (Conv2D)          (None, 7, 7, 64)          18496     \n",
            "                                                                 \n",
            " max_pooling2d_59 (MaxPoolin  (None, 3, 3, 64)         0         \n",
            " g2D)                                                            \n",
            "                                                                 \n",
            " conv2d_58 (Conv2D)          (None, 3, 3, 128)         73856     \n",
            "                                                                 \n",
            " max_pooling2d_60 (MaxPoolin  (None, 1, 1, 128)        0         \n",
            " g2D)                                                            \n",
            "                                                                 \n",
            " model_17 (Functional)       (None, 1, 1, 128)         9408      \n",
            "                                                                 \n",
            " model_18 (Functional)       (None, 1, 1, 128)         2308      \n",
            "                                                                 \n",
            " dropout_10 (Dropout)        (None, 1, 1, 128)         0         \n",
            "                                                                 \n",
            " flatten_7 (Flatten)         (None, 128)               0         \n",
            "                                                                 \n",
            " dropout_11 (Dropout)        (None, 128)               0         \n",
            "                                                                 \n",
            " dense_46 (Dense)            (None, 128)               16512     \n",
            "                                                                 \n",
            " dense_47 (Dense)            (None, 10)                1290      \n",
            "                                                                 \n",
            "=================================================================\n",
            "Total params: 126,670\n",
            "Trainable params: 126,668\n",
            "Non-trainable params: 2\n",
            "_________________________________________________________________\n",
            "Epoch 1/10\n",
            "600/600 - 8s - loss: 1.0509 - accuracy: 0.5890 - val_loss: 0.6398 - val_accuracy: 0.7558 - 8s/epoch - 13ms/step\n",
            "Epoch 2/10\n",
            "600/600 - 5s - loss: 0.6423 - accuracy: 0.7530 - val_loss: 0.5293 - val_accuracy: 0.8076 - 5s/epoch - 8ms/step\n",
            "Epoch 3/10\n",
            "600/600 - 4s - loss: 0.5407 - accuracy: 0.7980 - val_loss: 0.4565 - val_accuracy: 0.8292 - 4s/epoch - 7ms/step\n",
            "Epoch 4/10\n",
            "600/600 - 4s - loss: 0.4777 - accuracy: 0.8250 - val_loss: 0.4133 - val_accuracy: 0.8492 - 4s/epoch - 7ms/step\n",
            "Epoch 5/10\n",
            "600/600 - 8s - loss: 0.4341 - accuracy: 0.8428 - val_loss: 0.4126 - val_accuracy: 0.8435 - 8s/epoch - 13ms/step\n",
            "Epoch 6/10\n",
            "600/600 - 4s - loss: 0.4015 - accuracy: 0.8553 - val_loss: 0.3889 - val_accuracy: 0.8621 - 4s/epoch - 7ms/step\n",
            "Epoch 7/10\n",
            "600/600 - 5s - loss: 0.3754 - accuracy: 0.8664 - val_loss: 0.3833 - val_accuracy: 0.8514 - 5s/epoch - 9ms/step\n",
            "Epoch 8/10\n",
            "600/600 - 4s - loss: 0.3568 - accuracy: 0.8738 - val_loss: 0.3871 - val_accuracy: 0.8426 - 4s/epoch - 7ms/step\n",
            "Epoch 9/10\n",
            "600/600 - 5s - loss: 0.3379 - accuracy: 0.8794 - val_loss: 0.3746 - val_accuracy: 0.8574 - 5s/epoch - 9ms/step\n",
            "Epoch 10/10\n",
            "600/600 - 5s - loss: 0.3256 - accuracy: 0.8839 - val_loss: 0.3614 - val_accuracy: 0.8595 - 5s/epoch - 8ms/step\n"
          ]
        },
        {
          "output_type": "display_data",
          "data": {
            "text/plain": [
              "<Figure size 1200x400 with 2 Axes>"
            ],
            "image/png": "[encoded data removed]"
          },
          "metadata": {}
        },
        {
          "output_type": "stream",
          "name": "stdout",
          "text": [
            "Training accuracy: 0.884\tTraining loss: 0.326\n",
            "Validation accuracy: 0.859\tTraining loss: 0.361\n"
          ]
        },
        {
          "output_type": "execute_result",
          "data": {
            "text/plain": [
              "<keras.callbacks.History at 0x7f635cc96100>"
            ]
          },
          "metadata": {},
          "execution_count": 75
        }
      ]
    },
    {
      "cell_type": "code",
      "source": [
        "def create_model3():\n",
        "\n",
        "  input = Input(shape=(img_height, img_width,1))\n",
        "  \n",
        "  # \n",
        "  sc1a = SeparableConv2D(filters=16,kernel_size=(3,1),padding='same')(input)\n",
        "  c1a = Conv2D(filters=16,kernel_size=(1,1),padding='same')(sc1a)\n",
        "  sc1b = SeparableConv2D(filters=16,kernel_size=(1,3),padding='same')(c1a)\n",
        "  c1b = Conv2D(filters=16,kernel_size=(1,1),padding='same')(sc1b)\n",
        "  db1 = DropBlock2D(0.05,block_size=int(img_height/2))(c1b)\n",
        "  bn1 = BatchNormalization()(db1)\n",
        "  act1 = activations.relu(bn1)\n",
        "  mp1 = MaxPooling2D()(act1)\n",
        "\n",
        "  sc2a = SeparableConv2D(filters=32,kernel_size=(3,1),padding='same')(mp1)\n",
        "  c2a = Conv2D(filters=32,kernel_size=(1,1),padding='same')(sc2a)\n",
        "  sc2b = SeparableConv2D(filters=32,kernel_size=(1,3),padding='same')(c2a)\n",
        "  c2b = Conv2D(filters=32,kernel_size=(1,1),padding='same')(sc2b)\n",
        "  db2 = DropBlock2D(0.05,block_size=int(img_height/2))(c2b)\n",
        "  bn2 = BatchNormalization()(db2)\n",
        "  act2 = activations.relu(bn2)\n",
        "  mp2 = MaxPooling2D()(act2)\n",
        "\n",
        "  sc3a = SeparableConv2D(filters=64,kernel_size=(3,1),padding='same')(mp2)\n",
        "  c3a = Conv2D(filters=64,kernel_size=(1,1),padding='same')(sc3a)\n",
        "  sc3b = SeparableConv2D(filters=64,kernel_size=(1,3),padding='same')(c3a)\n",
        "  c3b = Conv2D(filters=64,kernel_size=(1,1),padding='same')(sc3b)\n",
        "  db3 = DropBlock2D(0.05,block_size=int(img_height/2))(c3b)\n",
        "  bn3 = BatchNormalization()(db3)\n",
        "  act3 = activations.relu(bn3)\n",
        "  mp3 = MaxPooling2D()(act3)\n",
        "\n",
        "  sc4a = SeparableConv2D(filters=128,kernel_size=(3,1),padding='same')(mp3)\n",
        "  c4a = Conv2D(filters=128,kernel_size=(1,1),padding='same')(sc4a)\n",
        "  sc4b = SeparableConv2D(filters=128,kernel_size=(1,3),padding='same')(c4a)\n",
        "  c4b = Conv2D(filters=128,kernel_size=(1,1),padding='same')(sc4b)\n",
        "  db4 = DropBlock2D(0.05,block_size=int(img_height/2))(c4b)\n",
        "  bn4 = BatchNormalization()(db4)\n",
        "  act4 = activations.relu(bn4)\n",
        "  mp4 = MaxPooling2D()(act4)\n",
        "\n",
        "  cbam = cbam_block(mp4,128)\n",
        "\n",
        "  # flatten image for Dense layer\n",
        "  fl = Flatten()(cbam)\n",
        "\n",
        "  # fully-connected layer with 128 units on top of it that is activated by a ReLU \n",
        "  # activation function\n",
        "  dense1 = Dense(64,activation='relu')(fl)\n",
        "  db_f = Dropout(0.2)(dense1)\n",
        "  dense2 = Dense(64,activation='relu')(db_f)\n",
        "  \n",
        "  final = Dense(len(class_names))(dense2)\n",
        "  \n",
        "  \n",
        "  \n",
        "  model = Model(inputs=[input], outputs=[final])\n",
        "\n",
        "\n",
        "  model.compile(optimizer=keras.optimizers.Adam(learning_rate=0.0005),\n",
        "              loss=tf.keras.losses.SparseCategoricalCrossentropy(from_logits=True),\n",
        "              metrics=['accuracy'])\n",
        "\n",
        "  return model"
      ],
      "metadata": {
        "id": "v7OnSaRY8TH4"
      },
      "execution_count": 78,
      "outputs": []
    },
    {
      "cell_type": "code",
      "source": [
        "model3 = create_model3()"
      ],
      "metadata": {
        "colab": {
          "base_uri": "https://localhost:8080/"
        },
        "id": "vR9qiDdNELk3",
        "outputId": "33b37782-c1f4-4082-f230-9873bd136603"
      },
      "execution_count": 76,
      "outputs": [
        {
          "output_type": "stream",
          "name": "stdout",
          "text": [
            "inputs: (None, 1, 1, 128)\n",
            "global_pool: (None, 1, 1, 128)\n",
            "dense1: (None, 1, 1, 32)\n",
            "activate: (None, 1, 1, 32)\n",
            "dense2: (None, 1, 1, 32)\n",
            "Overall_attention: (None, 1, 1, 128)\n"
          ]
        }
      ]
    },
    {
      "cell_type": "code",
      "source": [
        "evaluate(model3,10)"
      ],
      "metadata": {
        "colab": {
          "base_uri": "https://localhost:8080/",
          "height": 1000
        },
        "id": "7Pc32xjLE1eS",
        "outputId": "11ca30e1-963d-424a-b710-4a2ca288a712"
      },
      "execution_count": 77,
      "outputs": [
        {
          "output_type": "stream",
          "name": "stdout",
          "text": [
            "Model: \"model_22\"\n",
            "_________________________________________________________________\n",
            " Layer (type)                Output Shape              Param #   \n",
            "=================================================================\n",
            " input_26 (InputLayer)       [(None, 28, 28, 1)]       0         \n",
            "                                                                 \n",
            " separable_conv2d_64 (Separa  (None, 28, 28, 16)       35        \n",
            " bleConv2D)                                                      \n",
            "                                                                 \n",
            " conv2d_67 (Conv2D)          (None, 28, 28, 16)        272       \n",
            "                                                                 \n",
            " separable_conv2d_65 (Separa  (None, 28, 28, 16)       320       \n",
            " bleConv2D)                                                      \n",
            "                                                                 \n",
            " conv2d_68 (Conv2D)          (None, 28, 28, 16)        272       \n",
            "                                                                 \n",
            " drop_block2d_36 (DropBlock2  (None, 28, 28, 16)       0         \n",
            " D)                                                              \n",
            "                                                                 \n",
            " batch_normalization_34 (Bat  (None, 28, 28, 16)       64        \n",
            " chNormalization)                                                \n",
            "                                                                 \n",
            " tf.nn.relu_35 (TFOpLambda)  (None, 28, 28, 16)        0         \n",
            "                                                                 \n",
            " max_pooling2d_34 (MaxPoolin  (None, 14, 14, 16)       0         \n",
            " g2D)                                                            \n",
            "                                                                 \n",
            " separable_conv2d_66 (Separa  (None, 14, 14, 32)       592       \n",
            " bleConv2D)                                                      \n",
            "                                                                 \n",
            " conv2d_69 (Conv2D)          (None, 14, 14, 32)        1056      \n",
            "                                                                 \n",
            " separable_conv2d_67 (Separa  (None, 14, 14, 32)       1152      \n",
            " bleConv2D)                                                      \n",
            "                                                                 \n",
            " conv2d_70 (Conv2D)          (None, 14, 14, 32)        1056      \n",
            "                                                                 \n",
            " drop_block2d_37 (DropBlock2  (None, 14, 14, 32)       0         \n",
            " D)                                                              \n",
            "                                                                 \n",
            " batch_normalization_35 (Bat  (None, 14, 14, 32)       128       \n",
            " chNormalization)                                                \n",
            "                                                                 \n",
            " tf.nn.relu_36 (TFOpLambda)  (None, 14, 14, 32)        0         \n",
            "                                                                 \n",
            " max_pooling2d_35 (MaxPoolin  (None, 7, 7, 32)         0         \n",
            " g2D)                                                            \n",
            "                                                                 \n",
            " separable_conv2d_68 (Separa  (None, 7, 7, 64)         2208      \n",
            " bleConv2D)                                                      \n",
            "                                                                 \n",
            " conv2d_71 (Conv2D)          (None, 7, 7, 64)          4160      \n",
            "                                                                 \n",
            " separable_conv2d_69 (Separa  (None, 7, 7, 64)         4352      \n",
            " bleConv2D)                                                      \n",
            "                                                                 \n",
            " conv2d_72 (Conv2D)          (None, 7, 7, 64)          4160      \n",
            "                                                                 \n",
            " drop_block2d_38 (DropBlock2  (None, 7, 7, 64)         0         \n",
            " D)                                                              \n",
            "                                                                 \n",
            " batch_normalization_36 (Bat  (None, 7, 7, 64)         256       \n",
            " chNormalization)                                                \n",
            "                                                                 \n",
            " tf.nn.relu_37 (TFOpLambda)  (None, 7, 7, 64)          0         \n",
            "                                                                 \n",
            " max_pooling2d_36 (MaxPoolin  (None, 3, 3, 64)         0         \n",
            " g2D)                                                            \n",
            "                                                                 \n",
            " separable_conv2d_70 (Separa  (None, 3, 3, 128)        8512      \n",
            " bleConv2D)                                                      \n",
            "                                                                 \n",
            " conv2d_73 (Conv2D)          (None, 3, 3, 128)         16512     \n",
            "                                                                 \n",
            " separable_conv2d_71 (Separa  (None, 3, 3, 128)        16896     \n",
            " bleConv2D)                                                      \n",
            "                                                                 \n",
            " conv2d_74 (Conv2D)          (None, 3, 3, 128)         16512     \n",
            "                                                                 \n",
            " drop_block2d_39 (DropBlock2  (None, 3, 3, 128)        0         \n",
            " D)                                                              \n",
            "                                                                 \n",
            " batch_normalization_37 (Bat  (None, 3, 3, 128)        512       \n",
            " chNormalization)                                                \n",
            "                                                                 \n",
            " tf.nn.relu_38 (TFOpLambda)  (None, 3, 3, 128)         0         \n",
            "                                                                 \n",
            " max_pooling2d_37 (MaxPoolin  (None, 1, 1, 128)        0         \n",
            " g2D)                                                            \n",
            "                                                                 \n",
            " model_20 (Functional)       (None, 1, 1, 128)         9408      \n",
            "                                                                 \n",
            " model_21 (Functional)       (None, 1, 1, 128)         2308      \n",
            "                                                                 \n",
            " flatten_14 (Flatten)        (None, 128)               0         \n",
            "                                                                 \n",
            " dense_56 (Dense)            (None, 64)                8256      \n",
            "                                                                 \n",
            " dropout_9 (Dropout)         (None, 64)                0         \n",
            "                                                                 \n",
            " dense_57 (Dense)            (None, 64)                4160      \n",
            "                                                                 \n",
            " dense_58 (Dense)            (None, 10)                650       \n",
            "                                                                 \n",
            "=================================================================\n",
            "Total params: 103,809\n",
            "Trainable params: 103,327\n",
            "Non-trainable params: 482\n",
            "_________________________________________________________________\n",
            "Epoch 1/10\n",
            "600/600 - 25s - loss: 0.7949 - accuracy: 0.7064 - val_loss: 1.0381 - val_accuracy: 0.7117 - 25s/epoch - 41ms/step\n",
            "Epoch 2/10\n",
            "600/600 - 12s - loss: 0.4341 - accuracy: 0.8396 - val_loss: 0.4428 - val_accuracy: 0.8293 - 12s/epoch - 19ms/step\n",
            "Epoch 3/10\n",
            "600/600 - 14s - loss: 0.3809 - accuracy: 0.8588 - val_loss: 0.3707 - val_accuracy: 0.8620 - 14s/epoch - 24ms/step\n",
            "Epoch 4/10\n",
            "600/600 - 12s - loss: 0.3463 - accuracy: 0.8715 - val_loss: 0.3588 - val_accuracy: 0.8698 - 12s/epoch - 20ms/step\n",
            "Epoch 5/10\n",
            "600/600 - 11s - loss: 0.3280 - accuracy: 0.8786 - val_loss: 0.3377 - val_accuracy: 0.8752 - 11s/epoch - 19ms/step\n",
            "Epoch 6/10\n",
            "600/600 - 12s - loss: 0.3114 - accuracy: 0.8837 - val_loss: 0.3568 - val_accuracy: 0.8672 - 12s/epoch - 20ms/step\n",
            "Epoch 7/10\n",
            "600/600 - 12s - loss: 0.2996 - accuracy: 0.8876 - val_loss: 0.3185 - val_accuracy: 0.8799 - 12s/epoch - 19ms/step\n",
            "Epoch 8/10\n",
            "600/600 - 11s - loss: 0.2894 - accuracy: 0.8914 - val_loss: 0.3180 - val_accuracy: 0.8854 - 11s/epoch - 19ms/step\n",
            "Epoch 9/10\n",
            "600/600 - 11s - loss: 0.2813 - accuracy: 0.8959 - val_loss: 0.3082 - val_accuracy: 0.8867 - 11s/epoch - 18ms/step\n",
            "Epoch 10/10\n",
            "600/600 - 11s - loss: 0.2728 - accuracy: 0.8986 - val_loss: 0.3771 - val_accuracy: 0.8653 - 11s/epoch - 18ms/step\n"
          ]
        },
        {
          "output_type": "display_data",
          "data": {
            "text/plain": [
              "<Figure size 1200x400 with 2 Axes>"
            ],
            "image/png": "[encoded data removed]"
          },
          "metadata": {}
        },
        {
          "output_type": "stream",
          "name": "stdout",
          "text": [
            "Training accuracy: 0.899\tTraining loss: 0.273\n",
            "Validation accuracy: 0.865\tValidation loss: 0.377\n"
          ]
        },
        {
          "output_type": "execute_result",
          "data": {
            "text/plain": [
              "<keras.callbacks.History at 0x7fa1f12bca30>"
            ]
          },
          "metadata": {},
          "execution_count": 77
        }
      ]
    }
  ]
}